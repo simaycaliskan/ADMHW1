{
 "cells": [
  {
   "cell_type": "markdown",
   "id": "376e4843",
   "metadata": {},
   "source": [
    "# Problem 2\n"
   ]
  },
  {
   "cell_type": "markdown",
   "id": "59fa42b9",
   "metadata": {},
   "source": [
    "Birthday Cake Candles"
   ]
  },
  {
   "cell_type": "code",
   "execution_count": 2,
   "id": "4fdc9e68",
   "metadata": {},
   "outputs": [
    {
     "name": "stdout",
     "output_type": "stream",
     "text": [
      "4\n",
      "3 2 1 3\n"
     ]
    }
   ],
   "source": [
    "#!/bin/python3\n",
    "\n",
    "import math\n",
    "import os\n",
    "import random\n",
    "import re\n",
    "import sys\n",
    "\n",
    "#\n",
    "# Complete the 'birthdayCakeCandles' function below.\n",
    "#\n",
    "# The function is expected to return an INTEGER.\n",
    "# The function accepts INTEGER_ARRAY candles as parameter.\n",
    "#\n",
    "\n",
    "def birthdayCakeCandles(candles):\n",
    "    tallest = max (candles)\n",
    "    count = 0\n",
    "    for i in candles:\n",
    "        if i == tallest:\n",
    "            count = count +1\n",
    "    return count\n",
    "    \n",
    "if __name__ == '__main__':\n",
    "#    fptr = open(os.environ['OUTPUT_PATH'], 'w')\n",
    "\n",
    "    candles_count = int(input().strip())\n",
    "\n",
    "    candles = list(map(int, input().rstrip().split()))\n",
    "\n",
    "    result = birthdayCakeCandles(candles)\n",
    "\n",
    "#    fptr.write(str(result) + '\\n')\n",
    "\n",
    "#    fptr.close()"
   ]
  },
  {
   "cell_type": "markdown",
   "id": "648817f9",
   "metadata": {},
   "source": [
    "Number Line Jumps"
   ]
  },
  {
   "cell_type": "code",
   "execution_count": 5,
   "id": "0a95d5e1",
   "metadata": {},
   "outputs": [
    {
     "name": "stdout",
     "output_type": "stream",
     "text": [
      "0 2 5 3\n"
     ]
    }
   ],
   "source": [
    "#!/bin/python3\n",
    "\n",
    "import math\n",
    "import os\n",
    "import random\n",
    "import re\n",
    "import sys\n",
    "\n",
    "#\n",
    "# Complete the 'kangaroo' function below.\n",
    "#\n",
    "# The function is expected to return a STRING.\n",
    "# The function accepts following parameters:\n",
    "#  1. INTEGER x1\n",
    "#  2. INTEGER v1\n",
    "#  3. INTEGER x2\n",
    "#  4. INTEGER v2\n",
    "#\n",
    "\n",
    "def kangaroo(x1, v1, x2, v2):\n",
    "    \n",
    "    if v1 == v2:\n",
    "        if x1 == x2:\n",
    "            return \"YES\"\n",
    "        else:\n",
    "            return \"NO\"\n",
    "\n",
    "    n = (x2 - x1) / (v1 - v2) #i got help from chatgpt for this definition.\n",
    "\n",
    "    if n >= 0 and n.is_integer() and (x1 + v1 * n) == (x2 + v2 * n):\n",
    "        return \"YES\"\n",
    "    else:\n",
    "        return \"NO\"\n",
    "    \n",
    "\n",
    "if __name__ == '__main__':\n",
    "#    fptr = open(os.environ['OUTPUT_PATH'], 'w')\n",
    "\n",
    "    first_multiple_input = input().rstrip().split()\n",
    "\n",
    "    x1 = int(first_multiple_input[0])\n",
    "\n",
    "    v1 = int(first_multiple_input[1])\n",
    "\n",
    "    x2 = int(first_multiple_input[2])\n",
    "\n",
    "    v2 = int(first_multiple_input[3])\n",
    "\n",
    "    result = kangaroo(x1, v1, x2, v2)\n",
    "\n",
    "#    fptr.write(result + '\\n')\n",
    "\n",
    "#    fptr.close()"
   ]
  },
  {
   "cell_type": "markdown",
   "id": "14932d09",
   "metadata": {},
   "source": [
    "Viral Advertising"
   ]
  },
  {
   "cell_type": "code",
   "execution_count": 6,
   "id": "c10e390d",
   "metadata": {},
   "outputs": [
    {
     "name": "stdout",
     "output_type": "stream",
     "text": [
      "3\n"
     ]
    }
   ],
   "source": [
    "#!/bin/python3\n",
    "\n",
    "import math\n",
    "import os\n",
    "import random\n",
    "import re\n",
    "import sys\n",
    "\n",
    "#\n",
    "# Complete the 'viralAdvertising' function below.\n",
    "#\n",
    "# The function is expected to return an INTEGER.\n",
    "# The function accepts INTEGER n as parameter.\n",
    "#\n",
    "\n",
    "def viralAdvertising(n):\n",
    "    # Write your code here\n",
    "    total_number = 5\n",
    "    like = (5//2)\n",
    "\n",
    "    for i in range (1,n):\n",
    "        total_number = (total_number//2) * 3\n",
    "        like = like + (total_number //2)\n",
    "    return like\n",
    "        \n",
    "\n",
    "if __name__ == '__main__':\n",
    "#    fptr = open(os.environ['OUTPUT_PATH'], 'w')\n",
    "\n",
    "    n = int(input().strip())\n",
    "\n",
    "    result = viralAdvertising(n)\n",
    "\n",
    "#    fptr.write(str(result) + '\\n')\n",
    "\n",
    "#    fptr.close()"
   ]
  },
  {
   "cell_type": "markdown",
   "id": "982c174d",
   "metadata": {},
   "source": [
    "Recursive Digit Sum\n"
   ]
  },
  {
   "cell_type": "code",
   "execution_count": 9,
   "id": "389b588b",
   "metadata": {},
   "outputs": [
    {
     "name": "stdout",
     "output_type": "stream",
     "text": [
      "148 3\n"
     ]
    }
   ],
   "source": [
    "#!/bin/python3\n",
    "\n",
    "import math\n",
    "import os\n",
    "import random\n",
    "import re\n",
    "import sys\n",
    "\n",
    "#\n",
    "# Complete the 'superDigit' function below.\n",
    "#\n",
    "# The function is expected to return an INTEGER.\n",
    "# The function accepts following parameters:\n",
    "#  1. STRING n\n",
    "#  2. INTEGER k\n",
    "#\n",
    "\n",
    "def superDigit(n, k):\n",
    "    # Write your code here\n",
    "    num_str = n*k\n",
    "    number = float (num_str)\n",
    "    digit_list = list()\n",
    "    digit_list_new = list()\n",
    "    if number < 10:\n",
    "        return number\n",
    "    else:\n",
    "        for i in num_str:\n",
    "            digit_list.append(int(i))\n",
    "        \n",
    "        toplam = sum (digit_list)\n",
    "        \n",
    "        while toplam > 9:\n",
    "            temp_sum = 0\n",
    "            while toplam > 0:\n",
    "                temp_sum += toplam % 10\n",
    "                toplam //= 10\n",
    "            toplam = temp_sum\n",
    "            \n",
    "        return toplam\n",
    " \n",
    "if __name__ == '__main__':\n",
    "#    fptr = open(os.environ['OUTPUT_PATH'], 'w')\n",
    "\n",
    "    first_multiple_input = input().rstrip().split()\n",
    "\n",
    "    n = first_multiple_input[0]\n",
    "\n",
    "    k = int(first_multiple_input[1])\n",
    "\n",
    "    result = superDigit(n, k)\n",
    "\n",
    "#    fptr.write(str(result) + '\\n')\n",
    "\n",
    "#    fptr.close()\n"
   ]
  },
  {
   "cell_type": "markdown",
   "id": "8a19397b",
   "metadata": {},
   "source": [
    "Insertion Sort - Part 1\n"
   ]
  },
  {
   "cell_type": "code",
   "execution_count": 10,
   "id": "3336be85",
   "metadata": {},
   "outputs": [
    {
     "name": "stdout",
     "output_type": "stream",
     "text": [
      "5\n",
      "2 4 6 8 3\n",
      "2 4 6 8 8\n",
      "2 4 6 6 8\n",
      "2 4 4 6 8\n",
      "2 3 4 6 8\n"
     ]
    }
   ],
   "source": [
    "#!/bin/python3\n",
    "\n",
    "import math\n",
    "import os\n",
    "import random\n",
    "import re\n",
    "import sys\n",
    "\n",
    "#\n",
    "# Complete the 'insertionSort1' function below.\n",
    "#\n",
    "# The function accepts following parameters:\n",
    "#  1. INTEGER n\n",
    "#  2. INTEGER_ARRAY arr\n",
    "#\n",
    "\n",
    "def insertionSort1(n, arr):\n",
    "    temp = arr[-1]\n",
    "    i = n - 2\n",
    "\n",
    "    while i >= 0 and temp < arr[i]:\n",
    "        arr[i + 1] = arr[i]\n",
    "        i = i - 1\n",
    "        print(\" \".join(map(str, arr)))\n",
    "\n",
    "    arr[i + 1] = temp\n",
    "    print(\" \".join(map(str, arr)))\n",
    "    return 0\n",
    "        \n",
    "if __name__ == '__main__':\n",
    "    n = int(input().strip())\n",
    "\n",
    "    arr = list(map(int, input().rstrip().split()))\n",
    "\n",
    "    insertionSort1(n, arr)\n"
   ]
  },
  {
   "cell_type": "markdown",
   "id": "220905e9",
   "metadata": {},
   "source": [
    "Insertion Sort - Part 2\n"
   ]
  },
  {
   "cell_type": "code",
   "execution_count": 11,
   "id": "2b740c9b",
   "metadata": {},
   "outputs": [
    {
     "name": "stdout",
     "output_type": "stream",
     "text": [
      "6\n",
      "1 4 3 5 6 2\n",
      "1 4 3 5 6 2\n",
      "1 3 4 5 6 2\n",
      "1 3 4 5 6 2\n",
      "1 3 4 5 6 2\n",
      "1 2 3 4 5 6\n"
     ]
    }
   ],
   "source": [
    "#!/bin/python3\n",
    "\n",
    "import math\n",
    "import os\n",
    "import random\n",
    "import re\n",
    "import sys\n",
    "\n",
    "#\n",
    "# Complete the 'insertionSort2' function below.\n",
    "#\n",
    "# The function accepts following parameters:\n",
    "#  1. INTEGER n\n",
    "#  2. INTEGER_ARRAY arr\n",
    "#\n",
    "\n",
    "def insertionSort2(n, arr):\n",
    "   for i in range(1, n):\n",
    "        key = arr[i]\n",
    "        j = i - 1\n",
    "        while j >= 0 and key < arr[j]:\n",
    "            arr[j + 1] = arr[j]\n",
    "            j = j-1\n",
    "        arr[j + 1] = key\n",
    "        print(\" \".join(map(str, arr)))\n",
    "    \n",
    "if __name__ == '__main__':\n",
    "    n = int(input().strip())\n",
    "\n",
    "    arr = list(map(int, input().rstrip().split()))\n",
    "\n",
    "    insertionSort2(n, arr)\n"
   ]
  },
  {
   "cell_type": "code",
   "execution_count": null,
   "id": "30fdf401",
   "metadata": {},
   "outputs": [],
   "source": []
  }
 ],
 "metadata": {
  "kernelspec": {
   "display_name": "Python 3 (ipykernel)",
   "language": "python",
   "name": "python3"
  },
  "language_info": {
   "codemirror_mode": {
    "name": "ipython",
    "version": 3
   },
   "file_extension": ".py",
   "mimetype": "text/x-python",
   "name": "python",
   "nbconvert_exporter": "python",
   "pygments_lexer": "ipython3",
   "version": "3.11.4"
  }
 },
 "nbformat": 4,
 "nbformat_minor": 5
}
