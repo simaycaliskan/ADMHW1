{
 "cells": [
  {
   "cell_type": "markdown",
   "id": "2593bcba",
   "metadata": {},
   "source": [
    "# PROBLEM 1\n"
   ]
  },
  {
   "cell_type": "markdown",
   "id": "a7fcd393",
   "metadata": {},
   "source": [
    "# Introduction"
   ]
  },
  {
   "cell_type": "code",
   "execution_count": 1,
   "id": "e5f02984",
   "metadata": {},
   "outputs": [
    {
     "name": "stdout",
     "output_type": "stream",
     "text": [
      "Hello, World!\n"
     ]
    }
   ],
   "source": [
    "# Say \"Hello, World!\" With Python\n",
    "if __name__ == '__main__':\n",
    "    print(\"Hello, World!\")"
   ]
  },
  {
   "cell_type": "code",
   "execution_count": 2,
   "id": "f1eb18c9",
   "metadata": {},
   "outputs": [
    {
     "name": "stdout",
     "output_type": "stream",
     "text": [
      "5\n",
      "Weird\n"
     ]
    }
   ],
   "source": [
    "# Python If-Else\n",
    "#!/bin/python3\n",
    "\n",
    "import math\n",
    "import os\n",
    "import random\n",
    "import re\n",
    "import sys\n",
    "\n",
    "\n",
    "\n",
    "if __name__ == '__main__':\n",
    "    n = int(input().strip())\n",
    "    if (n%2)==1:\n",
    "        print (\"Weird\")\n",
    "    elif (n<=5) and (n>=2):\n",
    "        print (\"Not Weird\")\n",
    "    elif (n<=20) and (n>=6):\n",
    "        print (\"Weird\")\n",
    "    else:\n",
    "        print (\"Not Weird\")\n",
    "    \n"
   ]
  },
  {
   "cell_type": "code",
   "execution_count": 3,
   "id": "c1616349",
   "metadata": {},
   "outputs": [
    {
     "name": "stdout",
     "output_type": "stream",
     "text": [
      "3\n",
      "2\n",
      "5\n",
      "1\n",
      "6\n"
     ]
    }
   ],
   "source": [
    "# Arithmetic Operators\n",
    "if __name__ == '__main__':\n",
    "    a = int(input())\n",
    "    b = int(input())\n",
    "    print (a+b)\n",
    "    print(a-b)\n",
    "    print(a*b)"
   ]
  },
  {
   "cell_type": "code",
   "execution_count": 4,
   "id": "1a73d198",
   "metadata": {},
   "outputs": [
    {
     "name": "stdout",
     "output_type": "stream",
     "text": [
      "4\n",
      "3\n",
      "1\n",
      "1.3333333333333333\n"
     ]
    }
   ],
   "source": [
    "# Python: Division\n",
    "if __name__ == '__main__':\n",
    "    a = int(input())\n",
    "    b = int(input())\n",
    "    print(int(a/b))\n",
    "    print (a/b)"
   ]
  },
  {
   "cell_type": "code",
   "execution_count": 5,
   "id": "2f8eee42",
   "metadata": {},
   "outputs": [
    {
     "name": "stdout",
     "output_type": "stream",
     "text": [
      "5\n",
      "0\n",
      "1\n",
      "4\n",
      "9\n",
      "16\n"
     ]
    }
   ],
   "source": [
    "# Loops\n",
    "if __name__ == '__main__':\n",
    "    n = int(input())\n",
    "    for i in range (0,n):\n",
    "        print (i**2)"
   ]
  },
  {
   "cell_type": "code",
   "execution_count": 21,
   "id": "704132c1",
   "metadata": {},
   "outputs": [
    {
     "name": "stdout",
     "output_type": "stream",
     "text": [
      "2000\n",
      "True\n"
     ]
    }
   ],
   "source": [
    "# Write a function\n",
    "def is_leap(year):\n",
    "    leap = False\n",
    "   \n",
    "    if (year % 400)==0:\n",
    "        leap =True\n",
    "    elif (year % 100) == 0:\n",
    "        leap = False\n",
    "    elif (year % 4 ) == 0:\n",
    "        leap = True\n",
    "    else:\n",
    "        leap = False\n",
    "    \n",
    "    return leap\n",
    "year = int(input())\n",
    "print(is_leap(year))"
   ]
  },
  {
   "cell_type": "code",
   "execution_count": 8,
   "id": "fb9e9e1f",
   "metadata": {},
   "outputs": [
    {
     "name": "stdout",
     "output_type": "stream",
     "text": [
      "3\n",
      "123"
     ]
    }
   ],
   "source": [
    "# Print Function\n",
    "if __name__ == '__main__':\n",
    "    n = int(input())\n",
    "\n",
    "    for a in range (1,n+1):\n",
    "        print (a, end=\"\")"
   ]
  },
  {
   "cell_type": "markdown",
   "id": "f2ada937",
   "metadata": {},
   "source": [
    "# Data Types"
   ]
  },
  {
   "cell_type": "code",
   "execution_count": 9,
   "id": "345fd949",
   "metadata": {},
   "outputs": [
    {
     "name": "stdout",
     "output_type": "stream",
     "text": [
      "1\n",
      "1\n",
      "2\n",
      "2\n",
      "[[0, 0, 0], [0, 0, 1], [0, 1, 0], [0, 1, 2], [1, 0, 0], [1, 0, 2], [1, 1, 1], [1, 1, 2]]\n"
     ]
    }
   ],
   "source": [
    "# List Comprehensions\n",
    "if __name__ == '__main__':\n",
    "    x = int(input())\n",
    "    y = int(input())\n",
    "    z = int(input())\n",
    "    n = int(input())\n",
    "    newlist= []\n",
    "    for i in range(x+1):\n",
    "        for j in range(y+1):\n",
    "            for k in range(z+1): \n",
    "                if i+j+k != n:\n",
    "                    newlist.append([i,j,k])\n",
    "                \n",
    "    print (newlist)"
   ]
  },
  {
   "cell_type": "code",
   "execution_count": 10,
   "id": "7e4b84ad",
   "metadata": {},
   "outputs": [
    {
     "name": "stdout",
     "output_type": "stream",
     "text": [
      "5\n",
      "2 3 6 6 5\n",
      "5\n"
     ]
    }
   ],
   "source": [
    "# Find the Runner-Up Score!\n",
    "if __name__ == '__main__':\n",
    "    n = int(input())\n",
    "    arr = map(int, input().split())\n",
    "    arr_list = list(arr)\n",
    "    sorted_list= sorted (arr_list, reverse=True)\n",
    "    \n",
    "    if len(set(sorted_list)) == 1: #this line is searched on chatgpt (how to check if all the items\n",
    "                                   #in a list are the same)\n",
    "        print (sorted_list [0])\n",
    "        \n",
    "        \n",
    "    elif n >2 and len(sorted_list)>=2:\n",
    "        while sorted_list[0] == sorted_list[1]:\n",
    "            sorted_list.remove(sorted_list[0])\n",
    "                \n",
    "    print (sorted_list[1])"
   ]
  },
  {
   "cell_type": "code",
   "execution_count": 11,
   "id": "2bd728ad",
   "metadata": {},
   "outputs": [
    {
     "name": "stdout",
     "output_type": "stream",
     "text": [
      "5\n",
      "Harry 37.21 Berry 37.21 Tina 37.2 Akriti 41 Harsh 39\n",
      "4\n",
      "4\n",
      "5\n",
      "545\n",
      "545\n",
      "54\n",
      "5\n",
      "55\n",
      "52\n",
      "4\n",
      "54\n"
     ]
    }
   ],
   "source": [
    "# Nested Lists\n",
    "if __name__ == '__main__':\n",
    "    names = []\n",
    "    scores = []\n",
    "\n",
    "    for _ in range(int(input())):\n",
    "        name = input()\n",
    "        score = float(input())\n",
    "        names.append(name)\n",
    "        scores.append(score)\n",
    "records = []\n",
    "for n in range (len(names)):\n",
    "    records.append ([names[n], scores[n]])\n",
    "\n",
    "sorted_scores= sorted(scores, reverse = False)\n",
    "while sorted_scores[0] == sorted_scores[1]:\n",
    "    sorted_scores.remove(sorted_scores[0])\n",
    "second_low_value = sorted_scores [1]\n",
    "\n",
    "for sublist in (sorted(records)):\n",
    "    if sublist[1]==second_low_value:\n",
    "        print (sublist[0])\n"
   ]
  },
  {
   "cell_type": "code",
   "execution_count": 13,
   "id": "b7e772a8",
   "metadata": {},
   "outputs": [
    {
     "name": "stdout",
     "output_type": "stream",
     "text": [
      "3\n",
      "Krishna 67 68 69\n",
      "Arjun 70 98 63\n",
      "Malika 52 56 60\n",
      "Malika\n",
      "56.00\n"
     ]
    }
   ],
   "source": [
    "# Finding the percentage\n",
    "if __name__ == '__main__':\n",
    "    n = int(input())\n",
    "    student_marks = {}\n",
    "    for _ in range(n):\n",
    "        name, *line = input().split()\n",
    "        scores = list(map(float, line))\n",
    "        student_marks[name] = scores\n",
    "    query_name = input()\n",
    "\n",
    "for key,value in student_marks.items():\n",
    "    if key == query_name:\n",
    "        \n",
    "        mean = sum(value) / len (value)\n",
    "        print ('{:.2f}'.format(mean))\n"
   ]
  },
  {
   "cell_type": "code",
   "execution_count": 14,
   "id": "deb8b7e2",
   "metadata": {},
   "outputs": [
    {
     "name": "stdout",
     "output_type": "stream",
     "text": [
      "12\n",
      "insert 0 5\n",
      "insert 1 10\n",
      "insert 0 6\n",
      "print\n",
      "[6, 5, 10]\n",
      "remove 6\n",
      "append 9\n",
      "append 1\n",
      "sort\n",
      "print\n",
      "[1, 5, 9, 10]\n",
      "pop\n",
      "reverse\n",
      "print\n",
      "[9, 5, 1]\n"
     ]
    }
   ],
   "source": [
    "# Lists\n",
    "if __name__ == '__main__':\n",
    "    N = int(input())\n",
    "    mylist = []\n",
    "    for i in range (N):\n",
    "        command = input().split()\n",
    "        if command [0] == \"insert\":\n",
    "            mylist.insert(int (command[1]), int(command [2]))\n",
    "        elif command [0] == \"print\":\n",
    "            print (mylist)\n",
    "        elif command [0] == \"remove\":\n",
    "            mylist.remove(int (command[1]))\n",
    "        elif command [0] == \"append\":\n",
    "            mylist.append(int(command[1]))\n",
    "        elif command [0] == \"sort\":\n",
    "            mylist.sort()\n",
    "        elif command [0] == \"pop\":\n",
    "            mylist.pop()\n",
    "        else: \n",
    "            mylist.reverse()"
   ]
  },
  {
   "cell_type": "code",
   "execution_count": 15,
   "id": "7bf3718c",
   "metadata": {},
   "outputs": [
    {
     "name": "stdout",
     "output_type": "stream",
     "text": [
      "2\n",
      "1 2\n",
      "-3550055125485641917\n"
     ]
    }
   ],
   "source": [
    "# Tuples\n",
    "if __name__ == '__main__':\n",
    "    n = int(input())\n",
    "    integer_list = map(int, input().split())\n",
    "    mytuple = tuple(integer_list)\n",
    "    print (hash(mytuple))"
   ]
  },
  {
   "cell_type": "markdown",
   "id": "a9c8cc13",
   "metadata": {},
   "source": [
    "# Strings"
   ]
  },
  {
   "cell_type": "code",
   "execution_count": 22,
   "id": "e079a0eb",
   "metadata": {},
   "outputs": [
    {
     "name": "stdout",
     "output_type": "stream",
     "text": [
      "HackerRank.com\n",
      "hACKERrANK.COM\n"
     ]
    }
   ],
   "source": [
    "# sWAP cASE\n",
    "def swap_case(s):\n",
    "    return s.swapcase()\n",
    "if __name__ == '__main__':\n",
    "    s = input()\n",
    "    result = swap_case(s)\n",
    "    print(result)"
   ]
  },
  {
   "cell_type": "code",
   "execution_count": 17,
   "id": "bd55a201",
   "metadata": {},
   "outputs": [
    {
     "name": "stdout",
     "output_type": "stream",
     "text": [
      "this is a string\n",
      "this-is-a-string\n"
     ]
    }
   ],
   "source": [
    "# String Split and Join\n",
    "def split_and_join(line):\n",
    "    split = line.split (\" \")\n",
    "    join = \"-\".join(split)\n",
    "    return join\n",
    "    # write your code here\n",
    "\n",
    "if __name__ == '__main__':\n",
    "    line = input()\n",
    "    result = split_and_join(line)\n",
    "    print(result)\n"
   ]
  },
  {
   "cell_type": "code",
   "execution_count": 23,
   "id": "3831ddbc",
   "metadata": {},
   "outputs": [
    {
     "name": "stdout",
     "output_type": "stream",
     "text": [
      "Ross\n",
      "Taylor\n",
      "Hello Ross Taylor! You just delved into python.\n"
     ]
    }
   ],
   "source": [
    "# What's Your Name?\n",
    "#\n",
    "# Complete the 'print_full_name' function below.\n",
    "#\n",
    "# The function is expected to return a STRING.\n",
    "# The function accepts following parameters:\n",
    "#  1. STRING first\n",
    "#  2. STRING last\n",
    "#\n",
    "\n",
    "def print_full_name(first, last):\n",
    "    print (\"Hello\", first, last + \"! You just delved into python.\")\n",
    "    return 0\n",
    "    # Write your code here\n",
    "if __name__ == '__main__':\n",
    "    first_name = input()\n",
    "    last_name = input()\n",
    "    print_full_name(first_name, last_name)"
   ]
  },
  {
   "cell_type": "code",
   "execution_count": 20,
   "id": "c79cadd6",
   "metadata": {},
   "outputs": [
    {
     "name": "stdout",
     "output_type": "stream",
     "text": [
      "abracadabra\n",
      "5 k\n",
      "abrackdabra\n"
     ]
    }
   ],
   "source": [
    "# Mutations\n",
    "def mutate_string(string, position, character):\n",
    "    mylist = list (string)\n",
    "    mylist [position] = character\n",
    "    string = \"\".join(mylist)\n",
    "    return string\n",
    "if __name__ == '__main__':\n",
    "    s = input()\n",
    "    i, c = input().split()\n",
    "    s_new = mutate_string(s, int(i), c)\n",
    "    print(s_new)"
   ]
  },
  {
   "cell_type": "code",
   "execution_count": 24,
   "id": "bc8c5a67",
   "metadata": {},
   "outputs": [
    {
     "name": "stdout",
     "output_type": "stream",
     "text": [
      "ABCDCDC\n",
      "CDC\n",
      "2\n"
     ]
    }
   ],
   "source": [
    "# Find a string\n",
    "def count_substring(string, sub_string):\n",
    "    count = 0\n",
    "    for i in range (0, len (string)+1):\n",
    "        if string[i : i + len(sub_string)] == sub_string:\n",
    "                count = count +1\n",
    "\n",
    "    return count\n",
    "\n",
    "if __name__ == '__main__':\n",
    "    string = input().strip()\n",
    "    sub_string = input().strip()\n",
    "    \n",
    "    count = count_substring(string, sub_string)\n",
    "    print(count)"
   ]
  },
  {
   "cell_type": "code",
   "execution_count": 26,
   "id": "7b31e185",
   "metadata": {},
   "outputs": [
    {
     "name": "stdout",
     "output_type": "stream",
     "text": [
      "qAc\n",
      "True\n",
      "True\n",
      "False\n",
      "True\n",
      "True\n"
     ]
    }
   ],
   "source": [
    "# String Validators\n",
    "if __name__ == '__main__':\n",
    "    s = input()\n",
    "    mylist=list(s)\n",
    "    a=0\n",
    "    b=0\n",
    "    c=0\n",
    "    d=0\n",
    "    e=0\n",
    "    \n",
    "    for i in mylist:\n",
    "        if (i.isalnum()):\n",
    "            a=a+1\n",
    "        if (i.isalpha()):\n",
    "            b=b+1\n",
    "        if (i.isdigit()):\n",
    "            c=c+1\n",
    "        if (i.islower()):\n",
    "            d=d+1\n",
    "        if (i.isupper()):\n",
    "            e=e+1\n",
    "    print (a>0)\n",
    "    print (b>0)\n",
    "    print (c>0)\n",
    "    print(d>0)\n",
    "    print (e>0)\n",
    "    \n",
    "# I am pretty sure there is a more efficient way but this was the easiest way\n",
    "#for me."
   ]
  },
  {
   "cell_type": "code",
   "execution_count": 27,
   "id": "9b3b16a9",
   "metadata": {},
   "outputs": [
    {
     "name": "stdout",
     "output_type": "stream",
     "text": [
      "5\n",
      "    H    \n",
      "   HHH   \n",
      "  HHHHH  \n",
      " HHHHHHH \n",
      "HHHHHHHHH\n",
      "  HHHHH               HHHHH             \n",
      "  HHHHH               HHHHH             \n",
      "  HHHHH               HHHHH             \n",
      "  HHHHH               HHHHH             \n",
      "  HHHHH               HHHHH             \n",
      "  HHHHH               HHHHH             \n",
      "  HHHHHHHHHHHHHHHHHHHHHHHHH   \n",
      "  HHHHHHHHHHHHHHHHHHHHHHHHH   \n",
      "  HHHHHHHHHHHHHHHHHHHHHHHHH   \n",
      "  HHHHH               HHHHH             \n",
      "  HHHHH               HHHHH             \n",
      "  HHHHH               HHHHH             \n",
      "  HHHHH               HHHHH             \n",
      "  HHHHH               HHHHH             \n",
      "  HHHHH               HHHHH             \n",
      "                    HHHHHHHHH \n",
      "                     HHHHHHH  \n",
      "                      HHHHH   \n",
      "                       HHH    \n",
      "                        H     \n"
     ]
    }
   ],
   "source": [
    "# Text Alignment\n",
    "#Replace all ______ with rjust, ljust or center. \n",
    "\n",
    "thickness = int(input()) #This must be an odd number\n",
    "c = 'H'\n",
    "\n",
    "#Top Cone\n",
    "for i in range(thickness):\n",
    "    print((c*i).rjust(thickness-1)+c+(c*i).ljust(thickness-1))\n",
    "\n",
    "#Top Pillars\n",
    "for i in range(thickness+1):\n",
    "    print((c*thickness).center(thickness*2)+(c*thickness).center(thickness*6))\n",
    "\n",
    "#Middle Belt\n",
    "for i in range((thickness+1)//2):\n",
    "    print((c*thickness*5).center(thickness*6))    \n",
    "\n",
    "#Bottom Pillars\n",
    "for i in range(thickness+1):\n",
    "    print((c*thickness).center(thickness*2)+(c*thickness).center(thickness*6))    \n",
    "\n",
    "#Bottom Cone\n",
    "for i in range(thickness):\n",
    "    print(((c*(thickness-i-1)).rjust(thickness)+c+(c*(thickness-i-1)).ljust(thickness)).rjust(thickness*6))\n"
   ]
  },
  {
   "cell_type": "code",
   "execution_count": 28,
   "id": "00ff2f1e",
   "metadata": {},
   "outputs": [
    {
     "name": "stdout",
     "output_type": "stream",
     "text": [
      "ABCDEFGHIJKLIMNOQRSTUVWXYZ\n",
      "4\n",
      "ABCD\n",
      "EFGH\n",
      "IJKL\n",
      "IMNO\n",
      "QRST\n",
      "UVWX\n",
      "YZ\n"
     ]
    }
   ],
   "source": [
    "# Text Wrap\n",
    "import textwrap\n",
    "\n",
    "def wrap(string, max_width):\n",
    "    new_string = textwrap.fill(string, width=max_width)\n",
    "    return new_string\n",
    "\n",
    "if __name__ == '__main__':\n",
    "    string, max_width = input(), int(input())\n",
    "    result = wrap(string, max_width)\n",
    "    print(result)"
   ]
  },
  {
   "cell_type": "code",
   "execution_count": 29,
   "id": "b0cd51c5",
   "metadata": {},
   "outputs": [
    {
     "name": "stdout",
     "output_type": "stream",
     "text": [
      "9 27\n",
      "------------.|.------------\n",
      "---------.|..|..|.---------\n",
      "------.|..|..|..|..|.------\n",
      "---.|..|..|..|..|..|..|.---\n",
      "----------WELCOME----------\n",
      "---.|..|..|..|..|..|..|.---\n",
      "------.|..|..|..|..|.------\n",
      "---------.|..|..|.---------\n",
      "------------.|.------------\n"
     ]
    }
   ],
   "source": [
    "# Designer Door Mat\n",
    "# Enter your code here. Read input from STDIN. Print output to STDOUT\n",
    "inputhere=input()\n",
    "n, m = map(int, inputhere.split())\n",
    "c=\".|.\"\n",
    "for i in range(1,int (n-1),2):\n",
    "    print((c*i).center(m, \"-\"))\n",
    "    \n",
    "print (\"WELCOME\".center(m,\"-\"))\n",
    "\n",
    "for j in range ((int(n-2)), 0, -2):\n",
    "    print((c*j).center(m, \"-\"))"
   ]
  },
  {
   "cell_type": "code",
   "execution_count": 30,
   "id": "36792ee1",
   "metadata": {},
   "outputs": [
    {
     "name": "stdout",
     "output_type": "stream",
     "text": [
      "17\n",
      "    1     1     1     1\n",
      "    2     2     2    10\n",
      "    3     3     3    11\n",
      "    4     4     4   100\n",
      "    5     5     5   101\n",
      "    6     6     6   110\n",
      "    7     7     7   111\n",
      "    8    10     8  1000\n",
      "    9    11     9  1001\n",
      "   10    12     A  1010\n",
      "   11    13     B  1011\n",
      "   12    14     C  1100\n",
      "   13    15     D  1101\n",
      "   14    16     E  1110\n",
      "   15    17     F  1111\n",
      "   16    20    10 10000\n",
      "   17    21    11 10001\n"
     ]
    }
   ],
   "source": [
    "# String Formatting\n",
    "def print_formatted(number):\n",
    "    width = len(bin(number)[2:]) #this line was written with the help of chatgpt\n",
    "    for i in range(1,number+1):\n",
    "        dec= str(i). rjust(width)\n",
    "        octal = oct(i)[2:].rjust(width)\n",
    "        hexa = hex(i)[2:].upper().rjust(width)\n",
    "        binary = bin(i)[2:].rjust(width)\n",
    "        print (dec, octal, hexa, binary)\n",
    "\n",
    "if __name__ == '__main__':\n",
    "    n = int(input())\n",
    "    print_formatted(n)"
   ]
  },
  {
   "cell_type": "code",
   "execution_count": 33,
   "id": "b83fcc77",
   "metadata": {},
   "outputs": [
    {
     "name": "stdout",
     "output_type": "stream",
     "text": [
      "chris alan\n"
     ]
    }
   ],
   "source": [
    "# Capitalize!\n",
    "#!/bin/python3\n",
    "\n",
    "import math\n",
    "import os\n",
    "import random\n",
    "import re\n",
    "import sys\n",
    "\n",
    "# Complete the solve function below.\n",
    "def solve(s):\n",
    "    words = []\n",
    "    for word in s.split(\" \"):\n",
    "        new=word.capitalize()\n",
    "        words.append(new)\n",
    "    return \" \".join(words)\n",
    "\n",
    "if __name__ == '__main__':\n",
    "#    fptr = open(os.environ['OUTPUT_PATH'], 'w')\n",
    "\n",
    "    s = input()\n",
    "\n",
    "    result = solve(s)\n",
    "\n",
    "#    fptr.write(result + '\\n')\n",
    "\n",
    "#    fptr.close()"
   ]
  },
  {
   "cell_type": "code",
   "execution_count": 34,
   "id": "28d79f8a",
   "metadata": {},
   "outputs": [
    {
     "name": "stdout",
     "output_type": "stream",
     "text": [
      "BANANA\n",
      "Stuart 12\n"
     ]
    }
   ],
   "source": [
    "# The Minion Game\n",
    "def minion_game(string):\n",
    "    # your code goes here\n",
    "    consonants = \"BCDFGHJKLMNPQRSTVWXYZ\"\n",
    "    all_letters = []\n",
    "    stuart_count = 0\n",
    "    kevin_count = 0\n",
    "    sub_strings = []\n",
    "    matching_substrings= []\n",
    "    sub_strings_kev = []\n",
    "    matching_substrings_kev = set()\n",
    "    \n",
    "    for letter in string:\n",
    "        if letter.isalpha():\n",
    "            all_letters.append(letter)\n",
    "    for i in all_letters:\n",
    "        if i in consonants:\n",
    "            sub_string = i\n",
    "            sub_strings.append (i)\n",
    "            position = all_letters.index(i)\n",
    "            new_position = position+1   \n",
    "            for k in range(new_position, len (all_letters)):\n",
    "                sub_string = sub_string + all_letters[new_position]\n",
    "                new_position = new_position +1\n",
    "                sub_strings.append (sub_string)\n",
    "    unique_strings = list(set(sub_strings))\n",
    "    \n",
    "    for sub in unique_strings:\n",
    "        for j in range(len(string) - len(sub) + 1):\n",
    "            if string[j:j + len(sub)] == sub:\n",
    "                stuart_count += 1\n",
    "                matching_substrings.append(sub)\n",
    "\n",
    "        else:\n",
    "            sub_string_kev = i\n",
    "            sub_strings_kev.append (i)\n",
    "            position_kev = all_letters.index(i)\n",
    "            new_position_kev = position_kev+1   \n",
    "            for k in range(new_position_kev, len (all_letters)):\n",
    "                sub_string_kev = sub_string_kev + all_letters[new_position_kev]\n",
    "                new_position_kev = new_position_kev +1\n",
    "                sub_strings_kev.append (sub_string_kev)\n",
    "    unique_strings_kev = list(set(sub_strings_kev))\n",
    "    unique_strings_kev = list(set(unique_strings_kev))\n",
    "    for sub_kev in unique_strings_kev:\n",
    "        for m in range(len(string) - len(sub_kev) + 1):\n",
    "            if string[m:m + len(sub_kev)] == sub_kev:\n",
    "                kevin_count += 1\n",
    "                matching_substrings_kev.add(sub_kev)\n",
    "    matching_substrings_kev_list = list(matching_substrings_kev)\n",
    "\n",
    "    if stuart_count > kevin_count:\n",
    "        print (\"Stuart\", stuart_count)\n",
    "    elif kevin_count > stuart_count:\n",
    "        print (\"Kevin\", kevin_count)\n",
    "    else:\n",
    "        print (\"Draw\")\n",
    "            \n",
    "if __name__ == '__main__':\n",
    "    s = input()\n",
    "    minion_game(s)"
   ]
  },
  {
   "cell_type": "code",
   "execution_count": 35,
   "id": "48db7e21",
   "metadata": {},
   "outputs": [
    {
     "name": "stdout",
     "output_type": "stream",
     "text": [
      "AABCAAADA\n",
      "3\n",
      "BA\n",
      "AC\n",
      "AD\n"
     ]
    }
   ],
   "source": [
    "# Merge the Tools!\n",
    "def merge_the_tools(string, k):\n",
    "    # your code goes here\n",
    "    substrings = []\n",
    "    for i in range(0, len(string), k):\n",
    "        substring = string[i:i + k] \n",
    "        substrings.append(substring) \n",
    "        unique_strings = list(set(substring))\n",
    "        word = ''.join(unique_strings)\n",
    "        print (word)\n",
    "    return word\n",
    "if __name__ == '__main__':\n",
    "    string, k = input(), int(input())\n",
    "    merge_the_tools(string, k)"
   ]
  },
  {
   "cell_type": "code",
   "execution_count": 37,
   "id": "886e0c8f",
   "metadata": {},
   "outputs": [
    {
     "name": "stdout",
     "output_type": "stream",
     "text": [
      "5\n",
      "--------e--------\n",
      "------e-d-e------\n",
      "----e-d-c-d-e----\n",
      "--e-d-c-b-c-d-e--\n",
      "e-d-c-b-a-b-c-d-e\n",
      "--e-d-c-b-c-d-e--\n",
      "----e-d-c-d-e----\n",
      "------e-d-e------\n",
      "--------e--------\n"
     ]
    }
   ],
   "source": [
    "# Alphabet Rangoli\n",
    "def print_rangoli(size):\n",
    "    # your code goes here\n",
    "    alphabet = \"abcdefghijklmnopqrstuvwxyz\"\n",
    "    m = 4*size-3\n",
    "    linelist=[]\n",
    "\n",
    "    for i in range(size-1, -1, -1):\n",
    "        reverselist=[]\n",
    "        linelist.append(alphabet[i])\n",
    "        concat_letters = \"-\".join(linelist)\n",
    "        reverselist=linelist[::-1]\n",
    "        concat_letters2= \"-\".join(reverselist[1:])\n",
    "        concat =concat_letters + \"-\" + concat_letters2\n",
    "        print (concat.center(m,\"-\"))\n",
    "\n",
    "    for i in range(1, size):\n",
    "        line = \"-\".join(alphabet[size - 1:i:-1] + alphabet[i:size]) #I asked chatgpt a few syntax for this line.\n",
    "        print(line.center(m, '-'))\n",
    "if __name__ == '__main__':\n",
    "    n = int(input())\n",
    "    print_rangoli(n)"
   ]
  },
  {
   "cell_type": "markdown",
   "id": "2910cb7a",
   "metadata": {},
   "source": [
    "# Sets"
   ]
  },
  {
   "cell_type": "code",
   "execution_count": 38,
   "id": "713833b2",
   "metadata": {},
   "outputs": [
    {
     "name": "stdout",
     "output_type": "stream",
     "text": [
      "10\n",
      "161 182 161 154 176 170 167 171 170 174\n",
      "169.375\n"
     ]
    }
   ],
   "source": [
    "# Introduction to Sets\n",
    "def average(array):\n",
    "    # your code goes here\n",
    "    heights = set(array)\n",
    "    top = sum(heights)\n",
    "    bottom = len (heights)\n",
    "    result = top / bottom\n",
    "    return result\n",
    "    \n",
    "if __name__ == '__main__':\n",
    "    n = int(input())\n",
    "    arr = list(map(int, input().split()))\n",
    "    result = average(arr)\n",
    "    print(result)"
   ]
  },
  {
   "cell_type": "code",
   "execution_count": 39,
   "id": "636c1d7a",
   "metadata": {},
   "outputs": [
    {
     "name": "stdout",
     "output_type": "stream",
     "text": [
      "4\n",
      "2 4 5 9\n",
      "4\n",
      "2 4 11 12\n",
      "5\n",
      "9\n",
      "11\n",
      "12\n"
     ]
    }
   ],
   "source": [
    "# Symmetric Difference\n",
    "# Enter your code here. Read input from STDIN. Print output to STDOUT\n",
    "m = int (input ())\n",
    "a = input ()\n",
    "n = int (input ())\n",
    "b = input ()\n",
    "a_lis = set(a.split ())\n",
    "b_lis = set(b.split ())\n",
    "difference = list ((a_lis.symmetric_difference(b_lis)))\n",
    "sorted_dif = sorted(map(int, difference))\n",
    "\n",
    "for i in sorted_dif: \n",
    "    print(i) "
   ]
  },
  {
   "cell_type": "code",
   "execution_count": 40,
   "id": "70a9d488",
   "metadata": {},
   "outputs": [
    {
     "name": "stdout",
     "output_type": "stream",
     "text": [
      "7\n",
      "UK\n",
      "China\n",
      "USA\n",
      "France\n",
      "New Zealand\n",
      "UK\n",
      "France\n",
      "5\n"
     ]
    }
   ],
   "source": [
    "# Set .add()\n",
    "# Enter your code here. Read input from STDIN. Print output to STDOUT\n",
    "n = int(input())\n",
    "countries = []\n",
    "unique_countries = set()\n",
    "for i in range(n):\n",
    "    country = input().strip()\n",
    "    countries.append(country)\n",
    "\n",
    "\n",
    "for j in countries:\n",
    "    unique_countries.add(j)\n",
    "    \n",
    "print (len(unique_countries))"
   ]
  },
  {
   "cell_type": "code",
   "execution_count": 41,
   "id": "a04727f7",
   "metadata": {},
   "outputs": [
    {
     "name": "stdout",
     "output_type": "stream",
     "text": [
      "3\n",
      "1 2 3 4 5 6 7 8 9\n",
      "3\n",
      "pop\n",
      "remove 9\n",
      "discard 9\n",
      "35\n"
     ]
    }
   ],
   "source": [
    "# Set .discard(), .remove() & .pop()\n",
    "n = int(input())\n",
    "s = set(map(int, input().split()))\n",
    "c = int (input())\n",
    "a = []\n",
    "for i in range (c):\n",
    "    a.append(tuple (input().split(\" \")))\n",
    "    \n",
    "for j in a:\n",
    "    if j[0] == \"pop\":\n",
    "        s.pop ()\n",
    "    elif j[0] == \"remove\":\n",
    "        s.remove(int(j[1]))\n",
    "    else: \n",
    "        s.discard(int(j[1]))\n",
    "print (sum(s))"
   ]
  },
  {
   "cell_type": "code",
   "execution_count": 42,
   "id": "c08c5b5f",
   "metadata": {},
   "outputs": [
    {
     "name": "stdout",
     "output_type": "stream",
     "text": [
      "9\n",
      "1 2 3 4 5 6 7 8 9\n",
      "9\n",
      "10 1 2 3 11 21 55 6 8\n",
      "13\n"
     ]
    }
   ],
   "source": [
    "# Set .union() Operation\n",
    "# Enter your code here. Read input from STDIN. Print output to STDOUT\n",
    "e_count = int (input())\n",
    "e = set(map(int, input().split()))\n",
    "f_count = int (input())\n",
    "f = set(map(int, input().split()))\n",
    "\n",
    "print (len(e.union(f)))"
   ]
  },
  {
   "cell_type": "code",
   "execution_count": 43,
   "id": "1248c4e2",
   "metadata": {},
   "outputs": [
    {
     "name": "stdout",
     "output_type": "stream",
     "text": [
      "9\n",
      "1 2 3 4 5 6 7 8 9\n",
      "9\n",
      "10 1 2 3 11 21 55 6 8\n",
      "5\n"
     ]
    }
   ],
   "source": [
    "# Set .intersection() Operation\n",
    "# Enter your code here. Read input from STDIN. Print output to STDOUT\n",
    "e_count = int (input())\n",
    "e = set(map(int, input().split()))\n",
    "f_count = int (input())\n",
    "f = set(map(int, input().split()))\n",
    "\n",
    "print (len(e.intersection(f)))"
   ]
  },
  {
   "cell_type": "code",
   "execution_count": 44,
   "id": "b231486d",
   "metadata": {},
   "outputs": [
    {
     "name": "stdout",
     "output_type": "stream",
     "text": [
      "9\n",
      "1 2 3 4 5 6 7 8 9\n",
      "9\n",
      "10 1 2 3 11 21 55 6 8\n",
      "4\n"
     ]
    }
   ],
   "source": [
    "# Set .difference() Operation\n",
    "# Enter your code here. Read input from STDIN. Print output to STDOUT\n",
    "e_count = int (input())\n",
    "e = set(map(int, input().split()))\n",
    "f_count = int (input())\n",
    "f = set(map(int, input().split()))\n",
    "\n",
    "print (len(e.difference(f)))"
   ]
  },
  {
   "cell_type": "code",
   "execution_count": 45,
   "id": "b251282a",
   "metadata": {},
   "outputs": [
    {
     "name": "stdout",
     "output_type": "stream",
     "text": [
      "9\n",
      "1 2 3 4 5 6 7 8 9\n",
      "9\n",
      "10 1 2 3 11 21 55 6 8\n",
      "8\n"
     ]
    }
   ],
   "source": [
    "# Set .symmetric_difference() Operation\n",
    "# Enter your code here. Read input from STDIN. Print output to STDOUT\n",
    "e_count = int (input())\n",
    "e = set(map(int, input().split()))\n",
    "f_count = int (input())\n",
    "f = set(map(int, input().split()))\n",
    "\n",
    "print (len(e.symmetric_difference(f)))"
   ]
  },
  {
   "cell_type": "code",
   "execution_count": 46,
   "id": "c93a392f",
   "metadata": {},
   "outputs": [
    {
     "name": "stdout",
     "output_type": "stream",
     "text": [
      "16\n",
      "1 2 3 4 5 6 7 8 9 10 11 12 13 14 24 52\n",
      "4\n",
      "intersection_update 10\n",
      "\n",
      "\n",
      "\n"
     ]
    },
    {
     "ename": "IndexError",
     "evalue": "list index out of range",
     "output_type": "error",
     "traceback": [
      "\u001b[1;31m---------------------------------------------------------------------------\u001b[0m",
      "\u001b[1;31mIndexError\u001b[0m                                Traceback (most recent call last)",
      "Cell \u001b[1;32mIn[46], line 10\u001b[0m\n\u001b[0;32m      8\u001b[0m command \u001b[38;5;241m=\u001b[39m \u001b[38;5;28minput\u001b[39m()\u001b[38;5;241m.\u001b[39msplit()\n\u001b[0;32m      9\u001b[0m c \u001b[38;5;241m=\u001b[39m \u001b[38;5;28mset\u001b[39m(\u001b[38;5;28minput\u001b[39m()\u001b[38;5;241m.\u001b[39msplit())\n\u001b[1;32m---> 10\u001b[0m \u001b[38;5;28;01mif\u001b[39;00m command[\u001b[38;5;241m0\u001b[39m] \u001b[38;5;241m==\u001b[39m \u001b[38;5;124m\"\u001b[39m\u001b[38;5;124mintersection_update\u001b[39m\u001b[38;5;124m\"\u001b[39m:\n\u001b[0;32m     11\u001b[0m     b\u001b[38;5;241m.\u001b[39mintersection_update(c)\n\u001b[0;32m     12\u001b[0m \u001b[38;5;28;01melif\u001b[39;00m command[\u001b[38;5;241m0\u001b[39m] \u001b[38;5;241m==\u001b[39m \u001b[38;5;124m\"\u001b[39m\u001b[38;5;124mupdate\u001b[39m\u001b[38;5;124m\"\u001b[39m:\n",
      "\u001b[1;31mIndexError\u001b[0m: list index out of range"
     ]
    }
   ],
   "source": [
    "# Set Mutations\n",
    "# Enter your code here. Read input from STDIN. Print output to STDOUT\n",
    "a = int (input ())\n",
    "b = set(input().split())\n",
    "\n",
    "n = int (input ())\n",
    "for i in range(n):\n",
    "    command = input().split()\n",
    "    c = set(input().split())\n",
    "    if command[0] == \"intersection_update\":\n",
    "        b.intersection_update(c)\n",
    "    elif command[0] == \"update\":\n",
    "        b.update(c)\n",
    "    elif command[0] == \"symmetric_difference_update\":\n",
    "        b.symmetric_difference_update(c)\n",
    "    else: \n",
    "        b.difference_update(c)\n",
    "el_sum = 0\n",
    "for j in b:\n",
    "    el_sum = el_sum + int(j)\n",
    "\n",
    "print(el_sum)"
   ]
  },
  {
   "cell_type": "code",
   "execution_count": 47,
   "id": "b1835959",
   "metadata": {},
   "outputs": [
    {
     "name": "stdout",
     "output_type": "stream",
     "text": [
      "\n"
     ]
    },
    {
     "ename": "ValueError",
     "evalue": "invalid literal for int() with base 10: ''",
     "output_type": "error",
     "traceback": [
      "\u001b[1;31m---------------------------------------------------------------------------\u001b[0m",
      "\u001b[1;31mValueError\u001b[0m                                Traceback (most recent call last)",
      "Cell \u001b[1;32mIn[47], line 3\u001b[0m\n\u001b[0;32m      1\u001b[0m \u001b[38;5;66;03m# The Captain's Room\u001b[39;00m\n\u001b[0;32m      2\u001b[0m \u001b[38;5;66;03m# Enter your code here. Read input from STDIN. Print output to STDOUT\u001b[39;00m\n\u001b[1;32m----> 3\u001b[0m K \u001b[38;5;241m=\u001b[39m \u001b[38;5;28mint\u001b[39m (\u001b[38;5;28minput\u001b[39m())\n\u001b[0;32m      4\u001b[0m rooms \u001b[38;5;241m=\u001b[39m \u001b[38;5;28mlist\u001b[39m(\u001b[38;5;28mmap\u001b[39m(\u001b[38;5;28mint\u001b[39m, \u001b[38;5;28minput\u001b[39m()\u001b[38;5;241m.\u001b[39msplit()))\n\u001b[0;32m      5\u001b[0m all_rooms \u001b[38;5;241m=\u001b[39m \u001b[38;5;28mset\u001b[39m()\n",
      "\u001b[1;31mValueError\u001b[0m: invalid literal for int() with base 10: ''"
     ]
    }
   ],
   "source": [
    "# The Captain's Room\n",
    "# Enter your code here. Read input from STDIN. Print output to STDOUT\n",
    "K = int (input())\n",
    "rooms = list(map(int, input().split()))\n",
    "all_rooms = set()\n",
    "unique_rooms = set(rooms)\n",
    "for i in rooms:\n",
    "    if i in all_rooms:\n",
    "        unique_rooms.discard(i)\n",
    "    else:\n",
    "        unique_rooms.add(i)\n",
    "        all_rooms.add(i)\n",
    "cap_room = unique_rooms.pop()\n",
    "print (cap_room)\n"
   ]
  },
  {
   "cell_type": "code",
   "execution_count": 48,
   "id": "7d3a120d",
   "metadata": {},
   "outputs": [
    {
     "name": "stdout",
     "output_type": "stream",
     "text": [
      "3\n",
      "5\n",
      "1 2 3 5 6\n",
      "9\n",
      "9 8 5 6 3 2 1 4 7\n",
      "True\n",
      "1\n",
      "2\n",
      "5\n",
      "3 6 5 4 1\n",
      "False\n",
      "7\n",
      "1 2 3 5 6 8 9\n",
      "3\n",
      "9 8 2\n",
      "False\n"
     ]
    }
   ],
   "source": [
    "# Check Subset\n",
    "# Enter your code here. Read input from STDIN. Print output to STDOUT\n",
    "\n",
    "T = int (input ())\n",
    "for t in range (T):\n",
    "    A = int(input())\n",
    "    A_el = set(map(int, input().split()))\n",
    "    B = int(input())\n",
    "    B_el = set(map(int, input().split()))\n",
    "    if A_el.issubset(B_el):\n",
    "        print (\"True\")\n",
    "    else:\n",
    "        print (\"False\")"
   ]
  },
  {
   "cell_type": "code",
   "execution_count": 49,
   "id": "2472e248",
   "metadata": {},
   "outputs": [
    {
     "name": "stdout",
     "output_type": "stream",
     "text": [
      "1 2 3 4 5 6 7 8 9 10 11 12 23 45 84 78\n",
      "2\n",
      "1 2 3 4 5\n",
      "100 11 12\n",
      "False\n"
     ]
    }
   ],
   "source": [
    "# Check Strict Superset\n",
    "# Enter your code here. Read input from STDIN. Print output to STDOUT\n",
    "A = set(map(int, input().split()))\n",
    "n = int (input())\n",
    "for i in range (n):\n",
    "    other_sets = set(map(int, input().split()))\n",
    "    if not A.issuperset(other_sets):\n",
    "        print (\"False\")\n",
    "        break\n",
    "else:\n",
    "    print (\"True\")"
   ]
  },
  {
   "cell_type": "markdown",
   "id": "bdbfaa49",
   "metadata": {},
   "source": [
    "# Collections"
   ]
  },
  {
   "cell_type": "code",
   "execution_count": 50,
   "id": "5fb3c782",
   "metadata": {},
   "outputs": [
    {
     "name": "stdout",
     "output_type": "stream",
     "text": [
      "10\n",
      "2 3 4 5 6 8 7 6 5 18\n",
      "6\n",
      "6 55\n",
      "6 45\n",
      "6 55\n",
      "4 40\n",
      "18 60\n",
      "10 50\n",
      "200\n"
     ]
    }
   ],
   "source": [
    "# collections.Counter()\n",
    "# Enter your code here. Read input from STDIN. Print output to STDOUT\n",
    "from collections import Counter\n",
    "X = int (input ())\n",
    "sizes = list(map(int, input().split()))\n",
    "available = Counter(sizes)\n",
    "N = int (input ())\n",
    "earned = 0\n",
    "for i in range (N):\n",
    "    desired = input ().split ()\n",
    "    if available[int (desired[0])]:\n",
    "        earned = earned + int (desired [1])\n",
    "        available[int (desired[0])] = available[int (desired[0])]-1\n",
    "\n",
    "        \n",
    "print (earned)"
   ]
  },
  {
   "cell_type": "code",
   "execution_count": 51,
   "id": "583426e7",
   "metadata": {},
   "outputs": [
    {
     "name": "stdout",
     "output_type": "stream",
     "text": [
      "5 2\n",
      "a\n",
      "a\n",
      "b\n",
      "a\n",
      "b\n",
      "a\n",
      "b\n",
      "1 2 4\n",
      "3 5\n"
     ]
    }
   ],
   "source": [
    "# DefaultDict Tutorial\n",
    "# Enter your code here. Read input from STDIN. Print output to STDOUT\n",
    "from collections import defaultdict\n",
    "\n",
    "first_line = list(map(int, input().split()))\n",
    "n = first_line[0]\n",
    "m = first_line [1]\n",
    "group_a = []\n",
    "group_b = []\n",
    "for i in range (n):\n",
    "    group_a_read = list(input().strip())\n",
    "    group_a.append(group_a_read)\n",
    "for i in range (m):\n",
    "    group_b_read = list(input().strip())\n",
    "    group_b.append(group_b_read)\n",
    "\n",
    "d = defaultdict(list)\n",
    "d[\"group_a\"].append(group_a)\n",
    "d[\"group_b\"].append (group_b)\n",
    "\n",
    "for i, word in enumerate(group_a, start=1):\n",
    "\n",
    "    d[str(word)].append(i)\n",
    "for word in group_b:\n",
    "    if str(word) in d:\n",
    "        print(' '.join(map(str, d[str(word)])))\n",
    "    else:\n",
    "        print(-1)\n"
   ]
  },
  {
   "cell_type": "code",
   "execution_count": 52,
   "id": "73621f2b",
   "metadata": {},
   "outputs": [
    {
     "name": "stdout",
     "output_type": "stream",
     "text": [
      "5\n",
      "ID         MARKS      NAME       CLASS\n",
      "1          97         Raymond    7\n",
      "2          50         Steven     4\n",
      "3          91         Adrian     9\n",
      "4          72         Stewart    5\n",
      "5          80         Peter      6\n",
      "78.0\n"
     ]
    }
   ],
   "source": [
    "# Collections.namedtuple()\n",
    "# Enter your code here. Read input from STDIN. Print output to STDOUT\n",
    "from collections import namedtuple\n",
    "\n",
    "N = int (input ())\n",
    "columns = input().split()\n",
    "Student = namedtuple (\"Student\",columns)\n",
    "students = []\n",
    "line_sum = 0\n",
    "for i in (range (N)):\n",
    "    lines = input().split()\n",
    "    students = Student(*lines) # i looked this line from the \"Discussions\" page.\n",
    "    line_sum = line_sum + int (students.MARKS)\n",
    "print (line_sum / N)"
   ]
  },
  {
   "cell_type": "code",
   "execution_count": 53,
   "id": "b7fa6bcf",
   "metadata": {},
   "outputs": [
    {
     "name": "stdout",
     "output_type": "stream",
     "text": [
      "9\n",
      "BANANA FRIES 12\n",
      "POTATO CHIPS 30\n",
      "APPLE JUICE 10\n",
      "CANDY 5\n",
      "APPLE JUICE 10\n",
      "CANDY 5\n",
      "CANDY 5\n",
      "CANDY 5\n",
      "POTATO CHIPS 30\n",
      "BANANA FRIES 12\n",
      "POTATO CHIPS 60\n",
      "APPLE JUICE 20\n",
      "CANDY 20\n"
     ]
    }
   ],
   "source": [
    "# Collections.OrderedDict()\n",
    "# Enter your code here. Read input from STDIN. Print output to STDOUT \n",
    "from collections import OrderedDict\n",
    "\n",
    "n = int(input())\n",
    "\n",
    "ordered_dic = OrderedDict()\n",
    "\n",
    "for i in range(n):\n",
    "    elements = input().split()\n",
    "    item = \" \".join(elements[:-1])\n",
    "    price = int(elements[-1])\n",
    "    if item in ordered_dic:\n",
    "        ordered_dic[item] = ordered_dic[item] +  price\n",
    "    else:\n",
    "        ordered_dic[item] = price\n",
    "    \n",
    "for i in ordered_dic:\n",
    "    print(i, ordered_dic[i])"
   ]
  },
  {
   "cell_type": "code",
   "execution_count": 54,
   "id": "3101b980",
   "metadata": {},
   "outputs": [
    {
     "name": "stdout",
     "output_type": "stream",
     "text": [
      "4\n",
      "bcdef\n",
      "abcdefg\n",
      "bcde\n",
      "bcdef\n",
      "3\n",
      "2 1 1\n"
     ]
    }
   ],
   "source": [
    "# Word Order\n",
    "# Enter your code here. Read input from STDIN. Print output to STDOUT\n",
    "from collections import OrderedDict\n",
    "my_dict = {}\n",
    "n = int(input())\n",
    "\n",
    "for i in range(n):\n",
    "    word = input()\n",
    "    my_dict[i] = word\n",
    "\n",
    "values = my_dict.values()\n",
    "values_set = set(list(values))\n",
    "unique_count = len(values_set)\n",
    "\n",
    "count = {}\n",
    "\n",
    "for j in list(values):\n",
    "    if j in count:\n",
    "        count[j] = count [j] + 1\n",
    "    else:\n",
    "        count[j] = 1\n",
    "count_list = list(count.values())\n",
    "\n",
    "print (unique_count)\n",
    "print (\" \".join(map(str, count_list)))"
   ]
  },
  {
   "cell_type": "code",
   "execution_count": 55,
   "id": "795dc378",
   "metadata": {},
   "outputs": [
    {
     "name": "stdout",
     "output_type": "stream",
     "text": [
      "6\n",
      "append 1\n",
      "append 2\n",
      "append 3\n",
      "appendleft 4\n",
      "pop\n",
      "popleft\n",
      "1 2 "
     ]
    }
   ],
   "source": [
    "# Collections.deque()\n",
    "# Enter your code here. Read input from STDIN. Print output to STDOUT\n",
    "from collections import deque\n",
    "\n",
    "n = int(input())\n",
    "d = deque()\n",
    "\n",
    "for i in range(n):\n",
    "    command = input().split()\n",
    "    if command[0] == \"append\":\n",
    "        d.append(int(command[1]))\n",
    "    elif command[0] == \"pop\":\n",
    "        d.pop()\n",
    "    elif command[0] == \"popleft\":\n",
    "        d.popleft()\n",
    "    elif command[0] == \"appendleft\":\n",
    "        d.appendleft(int(command[1]))\n",
    "\n",
    "for command in d:\n",
    "    print(command, end=\" \")"
   ]
  },
  {
   "cell_type": "markdown",
   "id": "c3ef1054",
   "metadata": {},
   "source": [
    "# Date and Time"
   ]
  },
  {
   "cell_type": "code",
   "execution_count": 56,
   "id": "f260d7b6",
   "metadata": {},
   "outputs": [
    {
     "name": "stdout",
     "output_type": "stream",
     "text": [
      "08 05 2015\n",
      "WEDNESDAY\n"
     ]
    }
   ],
   "source": [
    "# Calendar Module\n",
    "# Enter your code here. Read input from STDIN. Print output to STDOUT\n",
    "import calendar\n",
    "\n",
    "n = input ().split (\" \")\n",
    "year = int(n[2])\n",
    "month = int (n[0])\n",
    "day = int (n[1])\n",
    "days = {0: \"MONDAY\", 1: \"TUESDAY\", 2: \"WEDNESDAY\", 3: \"THURSDAY\", 4: \"FRIDAY\", 5: \"SATURDAY\", 6:\"SUNDAY\"}\n",
    "day_no =calendar.weekday(year, month, day)\n",
    "print (days.get(day_no))\n"
   ]
  },
  {
   "cell_type": "code",
   "execution_count": 58,
   "id": "2e4ca43a",
   "metadata": {},
   "outputs": [
    {
     "name": "stdout",
     "output_type": "stream",
     "text": [
      "2\n",
      "Sun 10 May 2015 13:54:36 -0700\n",
      "Sun 10 May 2015 13:54:36 -0000\n",
      "Sat 02 May 2015 19:54:36 +0530\n",
      "Fri 01 May 2015 13:54:36 -0000\n"
     ]
    }
   ],
   "source": [
    "# Time Delta\n",
    "#!/bin/python3\n",
    "\n",
    "import math\n",
    "import os\n",
    "import random\n",
    "import re\n",
    "import sys\n",
    "from datetime import datetime \n",
    "# Complete the time_delta function below.\n",
    "def time_delta(t1, t2):\n",
    "    date1 = datetime.strptime(t1, \"%a %d %b %Y %H:%M:%S %z\")\n",
    "    date2 = datetime.strptime(t2, \"%a %d %b %Y %H:%M:%S %z\")\n",
    "    diff = (abs(date1-date2))\n",
    "    return str(int(diff.total_seconds()))\n",
    "if __name__ == '__main__':\n",
    "#    fptr = open(os.environ['OUTPUT_PATH'], 'w')\n",
    "\n",
    "    t = int(input())\n",
    "\n",
    "    for t_itr in range(t):\n",
    "        t1 = input()\n",
    "\n",
    "        t2 = input()\n",
    "\n",
    "        delta = time_delta(t1, t2)\n",
    "\n",
    "#        fptr.write(delta + '\\n')\n",
    "\n",
    "#    fptr.close()\n"
   ]
  },
  {
   "cell_type": "markdown",
   "id": "c571c761",
   "metadata": {},
   "source": [
    "# Exceptions\n"
   ]
  },
  {
   "cell_type": "code",
   "execution_count": 59,
   "id": "cb02556d",
   "metadata": {},
   "outputs": [
    {
     "name": "stdout",
     "output_type": "stream",
     "text": [
      "3\n",
      "1 0\n",
      "Error Code: integer division or modulo by zero\n",
      "2 $\n",
      "Error Code: invalid literal for int() with base 10: '$'\n",
      "3 1\n",
      "3\n"
     ]
    }
   ],
   "source": [
    "# Exceptions\n",
    "# Enter your code here. Read input from STDIN. Print output to STDOUT\n",
    "T = int (input())\n",
    "for i in range (T):\n",
    "    a,b = (input().split())\n",
    "    try: # i looked how to write the errors from the Discussions section\n",
    "        print(int(a) // int(b))\n",
    "    except ZeroDivisionError as e:\n",
    "        print('Error Code:',e)\n",
    "    except ValueError as v:\n",
    "        print('Error Code:',v)"
   ]
  },
  {
   "cell_type": "markdown",
   "id": "0187e903",
   "metadata": {},
   "source": [
    "# Built-ins"
   ]
  },
  {
   "cell_type": "code",
   "execution_count": 61,
   "id": "e87dd198",
   "metadata": {},
   "outputs": [
    {
     "name": "stdout",
     "output_type": "stream",
     "text": [
      "5 3\n",
      "89 90 78 93 80\n",
      "90 91 85 88 86\n",
      "91 92 83 89 90.5\n",
      "90.0\n",
      "91.0\n",
      "82.0\n",
      "90.0\n",
      "85.5\n"
     ]
    }
   ],
   "source": [
    "# Zipped!\n",
    "# Enter your code here. Read input from STDIN. Print output to STDOUT\n",
    "N, X = input().split()\n",
    "a = list()\n",
    "\n",
    "for i in range (int(X)):\n",
    "    a.append(list(map(float,input().split())))\n",
    "for j in list (zip(*a)):\n",
    "    print (sum(j)/ int(X))"
   ]
  },
  {
   "cell_type": "code",
   "execution_count": 62,
   "id": "7b4cfb1e",
   "metadata": {},
   "outputs": [
    {
     "name": "stdout",
     "output_type": "stream",
     "text": [
      "5 3\n",
      "10 2 5\n",
      "7 1 0\n",
      "9 9 9\n",
      "1 23 12\n",
      "6 5 9\n",
      "1\n",
      "7 1 0\n",
      "10 2 5\n",
      "6 5 9\n",
      "9 9 9\n",
      "1 23 12\n"
     ]
    }
   ],
   "source": [
    "# Athlete Sort\n",
    "#!/bin/python3\n",
    "\n",
    "import math\n",
    "import os\n",
    "import random\n",
    "import re\n",
    "import sys\n",
    "\n",
    "def place (arr):\n",
    "    return arr[k]\n",
    "    \n",
    "if __name__ == '__main__':\n",
    "    nm = input().split()\n",
    "\n",
    "    n = int(nm[0])\n",
    "\n",
    "    m = int(nm[1])\n",
    "\n",
    "    arr = []\n",
    "\n",
    "    for _ in range(n):\n",
    "        arr.append(list(map(int, input().rstrip().split())))\n",
    "\n",
    "    k = int(input())\n",
    "    \n",
    "    sort_arr =sorted(arr, key=place)\n",
    "    for i in sort_arr:\n",
    "        print (' '.join(map(str, i)))"
   ]
  },
  {
   "cell_type": "code",
   "execution_count": 63,
   "id": "4c8d61be",
   "metadata": {},
   "outputs": [
    {
     "name": "stdout",
     "output_type": "stream",
     "text": [
      "Sorting1234\n",
      "ginortS1324\n"
     ]
    }
   ],
   "source": [
    "#ginortS\n",
    "# Enter your code here. Read input from STDIN. Print output to STDOUT\n",
    "s = input ()\n",
    "lower = list()\n",
    "upper = list()\n",
    "odd = list()\n",
    "even = list()\n",
    "for i in (list(s)):\n",
    "    if i.islower():\n",
    "        lower.append(i)\n",
    "    elif i.isupper():\n",
    "        upper.append(i)\n",
    "    elif i in [\"1\",\"3\",\"5\",\"7\",\"9\"]:\n",
    "        odd.append(i)\n",
    "    else:\n",
    "        even.append(i)\n",
    "s1 = sorted(lower)\n",
    "s2 = sorted(upper)\n",
    "s3 = sorted (odd)\n",
    "s4 = sorted (even)\n",
    "\n",
    "finallist = s1 + s2 + s3 + s4\n",
    "print (''.join(finallist))\n"
   ]
  },
  {
   "cell_type": "markdown",
   "id": "e8230811",
   "metadata": {},
   "source": [
    "# Python Functionals"
   ]
  },
  {
   "cell_type": "code",
   "execution_count": 65,
   "id": "ec506052",
   "metadata": {},
   "outputs": [
    {
     "name": "stdout",
     "output_type": "stream",
     "text": [
      "5\n",
      "[0, 1, 1, 8, 27]\n"
     ]
    }
   ],
   "source": [
    "# Map and Lambda Function\n",
    "cube = lambda x: x**3\n",
    "\n",
    "def fibonacci(n):\n",
    "\n",
    "    if n <= 0:\n",
    "            return []\n",
    "    elif n == 1:\n",
    "        return [0]\n",
    "    elif n == 2:\n",
    "        return [0, 1]\n",
    "    else:\n",
    "        fib_seq = [0, 1]\n",
    "        for i in range (2, n):\n",
    "            fib_seq.append(fib_seq[i-1]+fib_seq[i-2]) #i looked this line from Discussions page.\n",
    "        return fib_seq\n",
    "\n",
    "if __name__ == '__main__':\n",
    "    n = int(input())\n",
    "    print(list(map(cube, fibonacci(n))))"
   ]
  },
  {
   "cell_type": "markdown",
   "id": "21acef2b",
   "metadata": {},
   "source": [
    "# XML\n"
   ]
  },
  {
   "cell_type": "code",
   "execution_count": 66,
   "id": "66c11d6c",
   "metadata": {},
   "outputs": [
    {
     "ename": "ParseError",
     "evalue": "no element found: line 1, column 0 (<string>)",
     "output_type": "error",
     "traceback": [
      "Traceback \u001b[1;36m(most recent call last)\u001b[0m:\n",
      "\u001b[0m  File \u001b[0;32mD:\\Program Files\\anaconda3\\Lib\\site-packages\\IPython\\core\\interactiveshell.py:3505\u001b[0m in \u001b[0;35mrun_code\u001b[0m\n    exec(code_obj, self.user_global_ns, self.user_ns)\u001b[0m\n",
      "\u001b[0m  Cell \u001b[0;32mIn[66], line 19\u001b[0m\n    tree = etree.ElementTree(etree.fromstring(xml))\u001b[0m\n",
      "\u001b[1;36m  File \u001b[1;32mD:\\Program Files\\anaconda3\\Lib\\xml\\etree\\ElementTree.py:1339\u001b[1;36m in \u001b[1;35mXML\u001b[1;36m\n\u001b[1;33m    return parser.close()\u001b[1;36m\n",
      "\u001b[1;36m  File \u001b[1;32m<string>\u001b[1;36m\u001b[0m\n\u001b[1;31mParseError\u001b[0m\u001b[1;31m:\u001b[0m no element found: line 1, column 0\n"
     ]
    }
   ],
   "source": [
    "# XML 1 - Find the Score\n",
    "import sys\n",
    "import xml.etree.ElementTree as etree\n",
    "\n",
    "def get_attr_number(node):\n",
    "    # your code goes here\n",
    "    length = len(node.attrib)\n",
    "    first_sum = 0\n",
    "    for i in node:\n",
    "        a = get_attr_number(i)\n",
    "        first_sum = first_sum + a\n",
    "\n",
    "    length = length + first_sum\n",
    "    return (length)\n",
    "   \n",
    "if __name__ == '__main__':\n",
    "    sys.stdin.readline()\n",
    "    xml = sys.stdin.read()\n",
    "    tree = etree.ElementTree(etree.fromstring(xml))\n",
    "    root = tree.getroot()\n",
    "    print(get_attr_number(root))"
   ]
  },
  {
   "cell_type": "code",
   "execution_count": 67,
   "id": "94aa8d74",
   "metadata": {},
   "outputs": [
    {
     "name": "stdout",
     "output_type": "stream",
     "text": [
      "6\n",
      "<feed xml:lang='en'>     <title>HackerRank</title>     <subtitle lang='en'>Programming challenges</subtitle>     <link rel='alternate' type='text/html' href='http://hackerrank.com/'/>     <updated>2013-12-25T12:00:00</updated> </feed>\n",
      "\n",
      "\n",
      "\n",
      "\n",
      "\n",
      "1\n"
     ]
    }
   ],
   "source": [
    "# XML2 - Find the Maximum Depth\n",
    "import xml.etree.ElementTree as etree\n",
    "\n",
    "maxdepth = 0\n",
    "def depth(elem, level):\n",
    "    global maxdepth\n",
    "    maxdepth = max(maxdepth, level+1) #at first I wrote it as \"level\", instead of \"level+1\". I corrected after looking at the Discussions part. \n",
    "    for i in elem:\n",
    "        depth(i, level + 1)\n",
    "    \n",
    "        \n",
    "    \n",
    "        \n",
    "if __name__ == '__main__':\n",
    "    n = int(input())\n",
    "    xml = \"\"\n",
    "    for i in range(n):\n",
    "        xml =  xml + input() + \"\\n\"\n",
    "    tree = etree.ElementTree(etree.fromstring(xml))\n",
    "    depth(tree.getroot(), -1)\n",
    "    print(maxdepth)"
   ]
  },
  {
   "cell_type": "markdown",
   "id": "a9c6500d",
   "metadata": {},
   "source": [
    "# Closures and Decorations"
   ]
  },
  {
   "cell_type": "code",
   "execution_count": 68,
   "id": "738bcf95",
   "metadata": {},
   "outputs": [
    {
     "name": "stdout",
     "output_type": "stream",
     "text": [
      "3\n",
      "07895462130\n",
      "919875641230\n",
      "9195969878\n",
      "+91 78954 62130\n",
      "+91 91959 69878\n",
      "+91 98756 41230\n"
     ]
    }
   ],
   "source": [
    "# Standardize Mobile Number Using Decorators\n",
    "def wrapper(f):\n",
    "    def fun(l):\n",
    "        numbers= []\n",
    "        for i in range(len(l)):\n",
    "            numbers.append(l[i][-10:])\n",
    "            first_half = numbers[i][0:5]\n",
    "            second_half = numbers[i][5:10]\n",
    "            \n",
    "            numbers[i] = \"+91 \" + str(first_half) + \" \" + str(second_half)\n",
    "        return f(numbers)\n",
    "    return fun\n",
    "    \n",
    "\n",
    "@wrapper\n",
    "def sort_phone(l):\n",
    "    print(*sorted(l), sep='\\n')\n",
    "\n",
    "if __name__ == '__main__':\n",
    "    l = [input() for _ in range(int(input()))]\n",
    "    sort_phone(l) "
   ]
  },
  {
   "cell_type": "code",
   "execution_count": 69,
   "id": "0f81b727",
   "metadata": {},
   "outputs": [
    {
     "name": "stdout",
     "output_type": "stream",
     "text": [
      "3\n",
      "Mike Thomson 20 M\n",
      "Robert Bustle 32 M\n",
      "Andria Bustle 30 F\n",
      "Mr. Mike Thomson\n",
      "Ms. Andria Bustle\n",
      "Mr. Robert Bustle\n"
     ]
    }
   ],
   "source": [
    "# Decorators 2 - Name Directory\n",
    "import operator\n",
    "from operator import itemgetter\n",
    "\n",
    "def person_lister(f):\n",
    "    def inner(people):\n",
    "        a = []\n",
    "        # complete the function\n",
    "        sorted_age = sorted(people, key=itemgetter(2))\n",
    "        for i in range(len(people)):\n",
    "            person = sorted_age[i]\n",
    "            a.append(f(person))\n",
    "        return a\n",
    "    return inner\n",
    "\n",
    "@person_lister\n",
    "def name_format(person):\n",
    "    return (\"Mr. \" if person[3] == \"M\" else \"Ms. \") + person[0] + \" \" + person[1]\n",
    "\n",
    "if __name__ == '__main__':\n",
    "    people = [input().split() for i in range(int(input()))]\n",
    "    print(*name_format(people), sep='\\n')"
   ]
  },
  {
   "cell_type": "markdown",
   "id": "13961819",
   "metadata": {},
   "source": [
    "# Numpy\n"
   ]
  },
  {
   "cell_type": "code",
   "execution_count": 70,
   "id": "d0c054a3",
   "metadata": {},
   "outputs": [
    {
     "name": "stdout",
     "output_type": "stream",
     "text": [
      "1 2 3 4 -8 -10\n",
      "[-10.  -8.   4.   3.   2.   1.]\n"
     ]
    }
   ],
   "source": [
    "# Arrays\n",
    "import numpy\n",
    "\n",
    "def arrays(arr):\n",
    "    # complete this function\n",
    "    # use numpy.array\n",
    "    arr.reverse()\n",
    "    my_array = numpy.array(arr, float)\n",
    "    return my_array\n",
    "\n",
    "arr = input().strip().split(' ')\n",
    "result = arrays(arr)\n",
    "print(result)"
   ]
  },
  {
   "cell_type": "code",
   "execution_count": 71,
   "id": "3cf31d07",
   "metadata": {},
   "outputs": [
    {
     "name": "stdout",
     "output_type": "stream",
     "text": [
      "1 2 3 4 5 6 7 8 9\n",
      "[[1 2 3]\n",
      " [4 5 6]\n",
      " [7 8 9]]\n"
     ]
    }
   ],
   "source": [
    "# Shape and Reshape\n",
    "import numpy\n",
    "\n",
    "inp = input().split(\" \")\n",
    "arr = numpy.array(inp, int)\n",
    "shaped = numpy.reshape(arr, (3,3))\n",
    "\n",
    "print (shaped)"
   ]
  },
  {
   "cell_type": "code",
   "execution_count": 73,
   "id": "22f8b342",
   "metadata": {},
   "outputs": [
    {
     "name": "stdout",
     "output_type": "stream",
     "text": [
      "2 2\n",
      "1 2\n",
      "3 4\n",
      "[[1 3]\n",
      " [2 4]]\n",
      "[1 2 3 4]\n"
     ]
    }
   ],
   "source": [
    "# Transpose and Flatten\n",
    "import numpy\n",
    "a = input().split(\" \")\n",
    "n = int(a[0])\n",
    "m = int(a[1])\n",
    "b = []\n",
    "\n",
    "for i in range (n):\n",
    "    b.append(input().split (\" \"))\n",
    "my_arr = numpy.array(b, int)\n",
    "print (my_arr.transpose())\n",
    "print (my_arr.flatten())"
   ]
  },
  {
   "cell_type": "code",
   "execution_count": 74,
   "id": "8ac910d4",
   "metadata": {},
   "outputs": [
    {
     "name": "stdout",
     "output_type": "stream",
     "text": [
      "4 3 2\n",
      "1 2\n",
      "1 2\n",
      "1 2\n",
      "1 2\n",
      "3 4\n",
      "3 4\n",
      "3 4\n",
      "[[1 2]\n",
      " [1 2]\n",
      " [1 2]\n",
      " [1 2]\n",
      " [3 4]\n",
      " [3 4]\n",
      " [3 4]]\n"
     ]
    }
   ],
   "source": [
    "# Concatenate\n",
    "import numpy\n",
    "a= input().split (\" \")\n",
    "n = (int(a[0]))\n",
    "m = (int(a[1]))\n",
    "p = (int(a[2]))\n",
    "b= []\n",
    "for i in range (n+m):\n",
    "    b.append(input ().split(\" \"))\n",
    "my_arr = numpy.array(b, int)\n",
    "    \n",
    "print (my_arr)"
   ]
  },
  {
   "cell_type": "code",
   "execution_count": 76,
   "id": "563df1aa",
   "metadata": {},
   "outputs": [
    {
     "name": "stdout",
     "output_type": "stream",
     "text": [
      "3 3 3\n",
      "[[[0 0 0]\n",
      "  [0 0 0]\n",
      "  [0 0 0]]\n",
      "\n",
      " [[0 0 0]\n",
      "  [0 0 0]\n",
      "  [0 0 0]]\n",
      "\n",
      " [[0 0 0]\n",
      "  [0 0 0]\n",
      "  [0 0 0]]]\n",
      "[[[1 1 1]\n",
      "  [1 1 1]\n",
      "  [1 1 1]]\n",
      "\n",
      " [[1 1 1]\n",
      "  [1 1 1]\n",
      "  [1 1 1]]\n",
      "\n",
      " [[1 1 1]\n",
      "  [1 1 1]\n",
      "  [1 1 1]]]\n"
     ]
    }
   ],
   "source": [
    "# Zeros and Ones\n",
    "import numpy\n",
    "inp = map(int, input().split(\" \"))\n",
    "my_list = list(inp)\n",
    "print (numpy.zeros((my_list), dtype = int))\n",
    "print (numpy.ones((my_list), dtype = int))"
   ]
  },
  {
   "cell_type": "code",
   "execution_count": 77,
   "id": "56910d67",
   "metadata": {},
   "outputs": [
    {
     "name": "stdout",
     "output_type": "stream",
     "text": [
      "3 3\n",
      "[[ 1.  0.  0.]\n",
      " [ 0.  1.  0.]\n",
      " [ 0.  0.  1.]]\n"
     ]
    }
   ],
   "source": [
    "# Eye and Identity\n",
    "import numpy\n",
    "numpy.set_printoptions(legacy=\"1.13\")\n",
    "inp = input().split(\" \")\n",
    "n = int (inp[0])\n",
    "m = int (inp[1])\n",
    "print (numpy.eye(n,m, k=0))"
   ]
  },
  {
   "cell_type": "code",
   "execution_count": 78,
   "id": "b496fd3a",
   "metadata": {},
   "outputs": [
    {
     "name": "stdout",
     "output_type": "stream",
     "text": [
      "1 4\n",
      "1 2 3 4\n",
      "5 6 7 8\n",
      "[[ 6  8 10 12]]\n",
      "[[-4 -4 -4 -4]]\n",
      "[[ 5 12 21 32]]\n",
      "[[0 0 0 0]]\n",
      "[[1 2 3 4]]\n",
      "[[    1    64  2187 65536]]\n"
     ]
    }
   ],
   "source": [
    "# Array Mathematics\n",
    "import numpy\n",
    "first_line = input().split(\" \")\n",
    "n = int(first_line[0])\n",
    "m = int(first_line[1])\n",
    "\n",
    "arr_a = []\n",
    "arr_b = []\n",
    "\n",
    "for i in range(n):\n",
    "    a_lines = list(map(int, input().split(\" \")))\n",
    "    arr_a.append(a_lines)\n",
    "\n",
    "for j in range(n):\n",
    "    b_lines = list(map(int, input().split(\" \")))\n",
    "    arr_b.append(b_lines)\n",
    "\n",
    "arr_a = numpy.array(arr_a)\n",
    "arr_b = numpy.array(arr_b)\n",
    "\n",
    "print((arr_a + arr_b).reshape(n, -1))\n",
    "print((arr_a - arr_b).reshape(n, -1))\n",
    "print((arr_a * arr_b).reshape(n, -1))\n",
    "print((arr_a // arr_b).reshape(n, -1))\n",
    "print((arr_a % arr_b).reshape(n, -1))\n",
    "print((arr_a ** arr_b).reshape(n, -1))\n"
   ]
  },
  {
   "cell_type": "code",
   "execution_count": 79,
   "id": "6a17161f",
   "metadata": {},
   "outputs": [
    {
     "name": "stdout",
     "output_type": "stream",
     "text": [
      "1.1 2.2 3.3 4.4 5.5 6.6 7.7 8.8 9.9\n",
      "[ 1.  2.  3.  4.  5.  6.  7.  8.  9.]\n",
      "[  2.   3.   4.   5.   6.   7.   8.   9.  10.]\n",
      "[  1.   2.   3.   4.   6.   7.   8.   9.  10.]\n"
     ]
    }
   ],
   "source": [
    "# Floor, Ceil and Rint\n",
    "import numpy\n",
    "numpy.set_printoptions(legacy=\"1.13\")\n",
    "\n",
    "inp = list(map(float, input().split(\" \")))\n",
    "my_arr = numpy.array(inp)\n",
    "print (numpy.floor(my_arr))\n",
    "print (numpy.ceil(my_arr))\n",
    "print (numpy.rint(my_arr))"
   ]
  },
  {
   "cell_type": "code",
   "execution_count": 80,
   "id": "a4e7b40c",
   "metadata": {},
   "outputs": [
    {
     "name": "stdout",
     "output_type": "stream",
     "text": [
      "2 2\n",
      "1 2\n",
      "3 4\n",
      "24\n"
     ]
    }
   ],
   "source": [
    "# Sum and Prod\n",
    "import numpy\n",
    "first_line = input().split(\" \")\n",
    "n = int(first_line[0])\n",
    "m = int(first_line[1])\n",
    "\n",
    "arr_a = []\n",
    "\n",
    "for i in range(n):\n",
    "    a_lines = list(map(int, input().split(\" \")))\n",
    "    arr_a.append(a_lines)\n",
    "b= numpy.sum(arr_a, axis = 0)\n",
    "print (numpy.prod(b))"
   ]
  },
  {
   "cell_type": "code",
   "execution_count": 81,
   "id": "0733fbd4",
   "metadata": {},
   "outputs": [
    {
     "name": "stdout",
     "output_type": "stream",
     "text": [
      "4 2\n",
      "2 5\n",
      "3 7\n",
      "1 3\n",
      "4 0\n",
      "3\n"
     ]
    }
   ],
   "source": [
    "# Min and Max\n",
    "import numpy\n",
    "first_line = input().split(\" \")\n",
    "n = int(first_line[0])\n",
    "m = int(first_line[1])\n",
    "\n",
    "arr_a = []\n",
    "\n",
    "for i in range(n):\n",
    "    a_lines = list(map(int, input().split(\" \")))\n",
    "    arr_a.append(a_lines)\n",
    "b = numpy.min(arr_a, axis = 1)\n",
    "print (numpy.max (b))"
   ]
  },
  {
   "cell_type": "code",
   "execution_count": 82,
   "id": "1e982f50",
   "metadata": {},
   "outputs": [
    {
     "name": "stdout",
     "output_type": "stream",
     "text": [
      "2 2\n",
      "1 2\n",
      "3 4\n",
      "[ 1.5  3.5]\n",
      "[ 1.  1.]\n",
      "1.11803398875\n"
     ]
    }
   ],
   "source": [
    "# Mean, Var, and Std\n",
    "import numpy\n",
    "first_line = input().split(\" \")\n",
    "n = int(first_line[0])\n",
    "m = int(first_line[1])\n",
    "\n",
    "arr_a = []\n",
    "\n",
    "for i in range(n):\n",
    "    a_lines = list(map(int, input().split(\" \")))\n",
    "    arr_a.append(a_lines)\n",
    "    \n",
    "print (numpy.mean(arr_a, axis = 1))\n",
    "print (numpy.var(arr_a, axis = 0))\n",
    "print (round(numpy.std(arr_a), 11))"
   ]
  },
  {
   "cell_type": "code",
   "execution_count": 83,
   "id": "47c626ba",
   "metadata": {},
   "outputs": [
    {
     "name": "stdout",
     "output_type": "stream",
     "text": [
      "2\n",
      "1 2\n",
      "3 4\n",
      "1 2\n",
      "3 4\n",
      "[[ 7 10]\n",
      " [15 22]]\n"
     ]
    }
   ],
   "source": [
    "# Dot and Cross\n",
    "import numpy\n",
    "n = int(input())\n",
    "\n",
    "arr_a = []\n",
    "arr_b = []\n",
    "\n",
    "for i in range(n):\n",
    "    a_lines = list(map(int, input().split(\" \")))\n",
    "    arr_a.append(a_lines)\n",
    "\n",
    "for i in range(n):\n",
    "    b_lines = list(map(int, input().split(\" \")))\n",
    "    arr_b.append(b_lines)\n",
    "print (numpy.dot(arr_a,arr_b))"
   ]
  },
  {
   "cell_type": "code",
   "execution_count": 84,
   "id": "7fd38f39",
   "metadata": {},
   "outputs": [
    {
     "name": "stdout",
     "output_type": "stream",
     "text": [
      "0 1\n",
      "2 3\n",
      "3\n",
      "[[0 0]\n",
      " [2 3]]\n"
     ]
    }
   ],
   "source": [
    "# Inner and Outer\n",
    "import numpy\n",
    "first_line = list(map(int, input().split(\" \")))\n",
    "second_line = list(map(int, input().split(\" \")))\n",
    "arr_a = numpy.array(first_line)\n",
    "arr_b = numpy.array(second_line)\n",
    "print (numpy.inner(arr_a,arr_b))\n",
    "print (numpy.outer(arr_a,arr_b))"
   ]
  },
  {
   "cell_type": "code",
   "execution_count": 85,
   "id": "5a5285f8",
   "metadata": {},
   "outputs": [
    {
     "name": "stdout",
     "output_type": "stream",
     "text": [
      "1.1 2 3\n",
      "0\n",
      "3.0\n"
     ]
    }
   ],
   "source": [
    "# Polynomials\n",
    "import numpy\n",
    "line = list(map(float, input().split(\" \")))\n",
    "my_arr = numpy.array(line)\n",
    "x = int(input())\n",
    "print (numpy.polyval(my_arr, x))"
   ]
  },
  {
   "cell_type": "code",
   "execution_count": 86,
   "id": "7873b574",
   "metadata": {},
   "outputs": [
    {
     "name": "stdout",
     "output_type": "stream",
     "text": [
      "2\n",
      "1.1 1.1\n",
      "1.1 1.1\n",
      "0.0\n"
     ]
    }
   ],
   "source": [
    "# Linear Algebra\n",
    "import numpy\n",
    "n = int(input())\n",
    "\n",
    "arr_a = []\n",
    "\n",
    "for i in range(n):\n",
    "    a_lines = list(map(float, input().split(\" \")))\n",
    "    arr_a.append(a_lines)\n",
    "\n",
    "print (round(numpy.linalg.det(arr_a), 2))"
   ]
  },
  {
   "cell_type": "code",
   "execution_count": null,
   "id": "851f4e5f",
   "metadata": {},
   "outputs": [],
   "source": []
  }
 ],
 "metadata": {
  "kernelspec": {
   "display_name": "Python 3 (ipykernel)",
   "language": "python",
   "name": "python3"
  },
  "language_info": {
   "codemirror_mode": {
    "name": "ipython",
    "version": 3
   },
   "file_extension": ".py",
   "mimetype": "text/x-python",
   "name": "python",
   "nbconvert_exporter": "python",
   "pygments_lexer": "ipython3",
   "version": "3.11.4"
  }
 },
 "nbformat": 4,
 "nbformat_minor": 5
}
